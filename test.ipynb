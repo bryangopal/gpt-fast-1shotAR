{
 "cells": [
  {
   "cell_type": "code",
   "execution_count": 1,
   "metadata": {},
   "outputs": [
    {
     "name": "stderr",
     "output_type": "stream",
     "text": [
      "/tmp/ipykernel_2184988/1258164076.py:3: FutureWarning: You are using `torch.load` with `weights_only=False` (the current default value), which uses the default pickle module implicitly. It is possible to construct malicious pickle data which will execute arbitrary code during unpickling (See https://github.com/pytorch/pytorch/blob/main/SECURITY.md#untrusted-models for more details). In a future release, the default value for `weights_only` will be flipped to `True`. This limits the functions that could be executed during unpickling. Arbitrary objects will no longer be allowed to be loaded via this mode unless they are explicitly allowlisted by the user via `torch.serialization.add_safe_globals`. We recommend you start setting `weights_only=True` for any use case where you don't have full control of the loaded file. Please open an issue on GitHub for any issues related to this experimental feature.\n",
      "  l0, l1, l2, l3, l4, l5, l6, l7 = torch.load(\"logits_0.pt\"), torch.load(\"logits_1.pt\"), torch.load(\"logits_2.pt\"), torch.load(\"logits_3.pt\"), torch.load(\"logits_4.pt\"), torch.load(\"logits_5.pt\"), torch.load(\"logits_6.pt\"), torch.load(\"logits_7.pt\")\n"
     ]
    }
   ],
   "source": [
    "import torch\n",
    "\n",
    "l0, l1, l2, l3, l4, l5, l6, l7 = torch.load(\"logits_0.pt\"), torch.load(\"logits_1.pt\"), torch.load(\"logits_2.pt\"), torch.load(\"logits_3.pt\"), torch.load(\"logits_4.pt\"), torch.load(\"logits_5.pt\"), torch.load(\"logits_6.pt\"), torch.load(\"logits_7.pt\")"
   ]
  },
  {
   "cell_type": "code",
   "execution_count": 2,
   "metadata": {},
   "outputs": [
    {
     "name": "stdout",
     "output_type": "stream",
     "text": [
      "(AsyncCollectiveTensor(tensor([[-0.2000, -0.4245, -0.1880,  ..., -0.6119,  0.6397,  0.2094]])),\n",
      " AsyncCollectiveTensor(tensor([[-0.4578, -0.5812,  0.1819,  ...,  0.4915, -0.2959, -0.2936]])),\n",
      " AsyncCollectiveTensor(tensor([[-0.0325, -0.3168,  0.6139,  ..., -0.4786,  0.3724,  0.0018]])),\n",
      " AsyncCollectiveTensor(tensor([[-0.0629, -0.3869,  0.5274,  ..., -1.9479,  3.0073,  0.2872]])),\n",
      " AsyncCollectiveTensor(tensor([[ 0.3012,  0.7879,  0.3199,  ..., -0.5293,  0.3815, -0.2599]])),\n",
      " AsyncCollectiveTensor(tensor([[ 0.0173,  0.2169, -0.3317,  ...,  0.0612,  0.4304,  1.0570]])),\n",
      " AsyncCollectiveTensor(tensor([[-2.3505e-01,  4.2611e-01,  7.2675e-02,  ..., -1.0399e+00,\n",
      "          5.1458e-04,  1.3049e-01]])),\n",
      " AsyncCollectiveTensor(tensor([[ 0.6578, -0.4611,  0.0961,  ...,  0.1501,  1.0943, -0.6310]])))\n"
     ]
    }
   ],
   "source": [
    "from pprint import pprint\n",
    "\n",
    "pprint((l0, l1, l2, l3, l4, l5, l6, l7))"
   ]
  },
  {
   "cell_type": "code",
   "execution_count": 3,
   "metadata": {},
   "outputs": [
    {
     "data": {
      "text/plain": [
       "[tensor(87645),\n",
       " tensor(104822),\n",
       " tensor(126884),\n",
       " tensor(17509),\n",
       " tensor(83909),\n",
       " tensor(18089),\n",
       " tensor(2503),\n",
       " tensor(88511)]"
      ]
     },
     "execution_count": 3,
     "metadata": {},
     "output_type": "execute_result"
    }
   ],
   "source": [
    "list(map(torch.argmax, (l0, l1, l2, l3, l4, l5, l6, l7)))"
   ]
  },
  {
   "cell_type": "code",
   "execution_count": 4,
   "metadata": {},
   "outputs": [
    {
     "data": {
      "text/plain": [
       "tensor(0.5155)"
      ]
     },
     "execution_count": 4,
     "metadata": {},
     "output_type": "execute_result"
    }
   ],
   "source": [
    "(l0 - l1).abs().mean()"
   ]
  },
  {
   "cell_type": "code",
   "execution_count": 5,
   "metadata": {},
   "outputs": [
    {
     "data": {
      "text/plain": [
       "torch.Size([1, 128256])"
      ]
     },
     "execution_count": 5,
     "metadata": {},
     "output_type": "execute_result"
    }
   ],
   "source": [
    "l1.shape"
   ]
  }
 ],
 "metadata": {
  "kernelspec": {
   "display_name": "gptfast",
   "language": "python",
   "name": "python3"
  },
  "language_info": {
   "codemirror_mode": {
    "name": "ipython",
    "version": 3
   },
   "file_extension": ".py",
   "mimetype": "text/x-python",
   "name": "python",
   "nbconvert_exporter": "python",
   "pygments_lexer": "ipython3",
   "version": "3.11.9"
  }
 },
 "nbformat": 4,
 "nbformat_minor": 2
}
